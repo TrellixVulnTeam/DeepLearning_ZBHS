{
 "cells": [
  {
   "cell_type": "markdown",
   "metadata": {},
   "source": [
    "# Neural Networks and CIFAR10 Classification\n",
    "\n",
    "In the previous assignment you've taken a closer look to the binary classification scenario as well as the common steps that are shared between almost all deep learning projects, the so called \"solver\", using a simple logistic regression setup.\n",
    "\n",
    "In this exercise, we will first take a closer look on the model side. In particular, you will implement self-contained building blocks that allow us to build complex models with ease. Afterwards, we will tackle the full pipeline once again, using new knowledge from our lectures to solve a more tricky task, i.e., general/non-binary classification. In particular, we will be using the CIFAR10 dataset that you developed in exercise 3, though we have to make some changes on the optimization and loss side, in comparison to your toy example in exercise 4. \n",
    "\n",
    "The notebook is quite long but there are not too many implementation tasks. More often we implemented certain aspects for you to showcase some nice features, but you should also look at our implementations to see the specific details. For a first pass however, you can choose to ditch those and focus on the blue boxes. \n",
    "\n",
    "Let's get started!\n",
    "\n",
    "<img src=\"./images/2-layer-nn.png\">"
   ]
  },
  {
   "cell_type": "markdown",
   "metadata": {},
   "source": [
    "## (Optional) Mount folder in Colab\n",
    "\n",
    "Uncomment thefollowing cell to mount your gdrive if you are using the notebook in google colab:"
   ]
  },
  {
   "cell_type": "code",
   "execution_count": 8,
   "metadata": {},
   "outputs": [
    {
     "data": {
      "text/plain": [
       "\"\\nfrom google.colab import drive\\nimport os\\n\\ngdrive_path='/content/gdrive/MyDrive/i2dl/exercise_05'\\n\\n# This will mount your google drive under 'MyDrive'\\ndrive.mount('/content/gdrive', force_remount=True)\\n# In order to access the files in this notebook we have to navigate to the correct folder\\nos.chdir(gdrive_path)\\n# Check manually if all files are present\\nprint(sorted(os.listdir()))\\n\""
      ]
     },
     "execution_count": 8,
     "metadata": {},
     "output_type": "execute_result"
    }
   ],
   "source": [
    "# Use the following lines if you want to use Google Colab\n",
    "# We presume you created a folder \"i2dl\" within your main drive folder, and put the exercise there.\n",
    "# NOTE: terminate all other colab sessions that use GPU!\n",
    "# NOTE 2: Make sure the correct exercise folder (e.g exercise_09) is given.\n",
    "\n",
    "\"\"\"\n",
    "from google.colab import drive\n",
    "import os\n",
    "\n",
    "gdrive_path='/content/gdrive/MyDrive/i2dl/exercise_05'\n",
    "\n",
    "# This will mount your google drive under 'MyDrive'\n",
    "drive.mount('/content/gdrive', force_remount=True)\n",
    "# In order to access the files in this notebook we have to navigate to the correct folder\n",
    "os.chdir(gdrive_path)\n",
    "# Check manually if all files are present\n",
    "print(sorted(os.listdir()))\n",
    "\"\"\""
   ]
  },
  {
   "cell_type": "code",
   "execution_count": 9,
   "metadata": {},
   "outputs": [
    {
     "name": "stdout",
     "output_type": "stream",
     "text": [
      "The autoreload extension is already loaded. To reload it, use:\n",
      "  %reload_ext autoreload\n"
     ]
    }
   ],
   "source": [
    "# As usual, a bit of setup\n",
    "import matplotlib.pyplot as plt\n",
    "import numpy as np\n",
    "import os\n",
    "\n",
    "from exercise_code.data import (\n",
    "    DataLoader,\n",
    "    ImageFolderDataset,\n",
    "    RescaleTransform,\n",
    "    NormalizeTransform,\n",
    "    FlattenTransform,\n",
    "    ComposeTransform,\n",
    ")\n",
    "from exercise_code.networks import (\n",
    "    ClassificationNet,\n",
    "    CrossEntropyFromLogits\n",
    ")\n",
    "from exercise_code.tests.layer_tests import *\n",
    "from exercise_code.tests.sgdm_tests import *\n",
    "\n",
    "from exercise_code.solver import Solver\n",
    "from exercise_code.networks.optimizer import (\n",
    "    SGD,\n",
    "    SGDMomentum,\n",
    "    Adam\n",
    ")\n",
    "from exercise_code.networks.compute_network_size import *\n",
    "\n",
    "%load_ext autoreload\n",
    "%autoreload 2\n",
    "%matplotlib inline\n",
    "\n",
    "plt.rcParams['figure.figsize'] = (10.0, 8.0) # set default size of plots\n",
    "plt.rcParams['image.interpolation'] = 'nearest'\n",
    "plt.rcParams['image.cmap'] = 'gray'"
   ]
  },
  {
   "cell_type": "markdown",
   "metadata": {},
   "source": [
    "# 1. Neural Network Models\n",
    "\n",
    "In `Exercise 4` you have already defined and implemented your first model. In order to understand the required building parts, it is important that you re-visit this structure as we intent to develop our model definition from there."
   ]
  },
  {
   "cell_type": "markdown",
   "metadata": {},
   "source": [
    "<div class=\"alert alert-success\">\n",
    "    <h3>Task: Check Code</h3>\n",
    "    <p>Please re-read your implementation (in particular the necessary functions and variables) of our classifier class in Exercise 4 in <code>../exercise_04/exercise_code/networks/classifier.py</code>. </p>\n",
    "</div>"
   ]
  },
  {
   "cell_type": "markdown",
   "metadata": {},
   "source": [
    "In particular, we defined three important components:\n",
    "- `__init__` and `initialize_weights`: that setup our classifier class, in particular we set up the weight matrix values here which we used for our logistic regression network\n",
    "- `forward`: that takes an input, **caches that input** and uses that input\n",
    "- `backward`: that computes gradient updates for our trained weight matrix\n",
    "\n",
    "\n",
    "## 1.1 Modularization\n",
    "\n",
    "The model you have implemented in `Exercise 4` was quite simple in nature, but if you would have to define multiple linear layer setups etc. it would get tricky quite quickly. Luckily, the lecture already provides us with a pleasant surprise that enables us to modularize the whole concepts of neural networks: the chain rule!\n",
    "\n",
    "<img src=\"./images/chainrule.png\">\n",
    "\n",
    "Same as the displayed image above, this fact is huge! It is the cornerstone of modern deep neural network building. Since, if we want to chain multiple linear layers (together with some auxiliary layers such as non-linearities) together, we have to compute their respective derivatives in order to update their weight matrices. However, thanks to the chain rule, we can create small building blocks that\n",
    "- in the `forward` pass do all required computations as well as save all values that are required to compute gradients and\n",
    "- in the `backward` function they will use the incoming gradients from later building blocks, to compute their respective gradients using their cached values.\n",
    "\n",
    "And therefore, we can just simply chain an arbitrary amount of such blocks, so called `layers`, together to create any structure we so desire (and finally which our hardware supports). Here is a more detailed code overview what we have to implement for those two passes:\n",
    "\n",
    "```python\n",
    "def layer_forward(x, w):\n",
    "  \"\"\" Receive inputs x and weights w \"\"\"\n",
    "  # Do some computations ...\n",
    "  z = # ... some intermediate value\n",
    "  # Do some more computations ...\n",
    "  out = # the output\n",
    "\n",
    "  cache = (x, w, z, out) # Values we need to compute gradients\n",
    "\n",
    "  return out, cache\n",
    "```\n",
    "\n",
    "and\n",
    "\n",
    "```python\n",
    "def layer_backward(dout, cache):\n",
    "  \"\"\"\n",
    "  Receive derivative of loss with respect to outputs and cache,\n",
    "  and compute derivative with respect to inputs.\n",
    "  \"\"\"\n",
    "  # Unpack cache values\n",
    "  x, w, z, out = cache\n",
    "\n",
    "  # Use values in cache to compute derivatives\n",
    "  dx = # Derivative of loss with respect to x\n",
    "  dw = # Derivative of loss with respect to w\n",
    "\n",
    "  return dx, dw\n",
    "```\n",
    "\n",
    "To check the correctness of your implementations below, we will again use numeric gradient checking\n",
    "\n",
    "$$ \\frac {df(x)}{dx} = \\frac{f(x+h) - f(x-h)}{2h} $$\n",
    "\n",
    "to compute values for layer outputs for your backward passees."
   ]
  },
  {
   "cell_type": "markdown",
   "metadata": {},
   "source": [
    "## 1.2 Layer Example: Non-Linearities\n",
    "\n",
    "One of the simplest layers are non-linearities. They don't require any initial setup and we can easily write down their forward and backward passes.\n",
    "\n",
    "### Sigmoid\n",
    "\n",
    "Sigmoid is one of the oldest used non-linearities. You already implemented it in the last exercise together with other layers. For reference, here is the mathematical formula:\n",
    "$$Sigmoid(x) = \\frac{1}{1 + exp(-x)}$$\n",
    "and its activation graph\n",
    "\n",
    "<img src=https://pytorch.org/docs/stable/_images/Sigmoid.png alt=\"Figure4\" width=\"400\"/>\n",
    "\n",
    "<div class=\"alert alert-info\">\n",
    "    <h3>Task: Implement</h3>\n",
    "    <p>Open the file <code>exercise_code/networks/layer.py</code>. Implement the <code>forward</code> and the <code>backward</code> method in the <code>Sigmoid</code> class, and test your implementation by running the following cell.\n",
    "    </p>\n",
    "</div>"
   ]
  },
  {
   "cell_type": "code",
   "execution_count": 10,
   "metadata": {},
   "outputs": [
    {
     "name": "stdout",
     "output_type": "stream",
     "text": [
      "SigmoidForwardTest passed.\n",
      "SigmoidBackwardTest passed.\n",
      "Congratulations! You have passed all the unit tests!!! Tests passed: 2/2\n",
      "Score: 100/100\n",
      "You secured a score of: 100\n"
     ]
    }
   ],
   "source": [
    "# Test your sigmoid implementation\n",
    "print(SigmoidTestWrapper()())"
   ]
  },
  {
   "cell_type": "markdown",
   "metadata": {},
   "source": [
    "### Relu\n",
    "\n",
    "Rectified Linear Units are the currently most used non-linearities in deep learning. They are not without flaws though they solve some issues introduced by non-linearities such as sigmoid above. Here is the formula\n",
    "$$ReLU(x) = max(0, x)$$\n",
    "and its clean graph\n",
    "<img src=https://pytorch.org/docs/stable/_images/ReLU.png alt=\"Figure2\" width=\"400\"/>\n",
    "<div class=\"alert alert-info\">\n",
    "    <h3>Task: Implement</h3>\n",
    "    <p>Open the file <code>exercise_code/networks/layer.py</code>. Implement the <code>forward</code> and the <code>backward</code> method in the <code>Relu</code> class, and test your implementation by running the following cell.\n",
    "    </p>\n",
    "</div>"
   ]
  },
  {
   "cell_type": "code",
   "execution_count": 11,
   "metadata": {},
   "outputs": [
    {
     "name": "stdout",
     "output_type": "stream",
     "text": [
      "ReluForwardTest passed.\n",
      "ReluBackwardTest passed.\n",
      "Congratulations! You have passed all the unit tests!!! Tests passed: 2/2\n",
      "Score: 100/100\n",
      "You secured a score of: 100\n"
     ]
    }
   ],
   "source": [
    "# Test your ReLu implementation\n",
    "print(ReluTestWrapper()())"
   ]
  },
  {
   "cell_type": "markdown",
   "metadata": {},
   "source": [
    "## 1.3 Affine Layers\n",
    "\n",
    "Our two layers above have no trainable weights and would make a poor network. As discussed in the lecture, Neural Networks use so called affine or linear layers that each has a learned weight matrix which we optimize in our training process.\n",
    "\n",
    "We deviate from our narrative here a little bit and focus our implementation efforts on the forward and backward passes of linear layers. Later on, you will encounter them in Pytorch again. There, they fully modularize those which makes network creation much simpler for the consumer/non-implementer ;).\n",
    "\n",
    "An affine layer computes a function of\n",
    "\n",
    "$$\\mathbf{z} = \\mathbf{W} \\mathbf{x} + \\mathbf{b}$$\n",
    "\n",
    "where $W$ is our learned weight matrix.\n",
    "\n",
    "<div class=\"alert alert-info\">\n",
    "    <h3>Task: Implement</h3>\n",
    "    <p>Open the file <code>exercise_code/networks/layer.py</code>. Implement the <code>affine_forward</code> and the <code>affine_backward</code> function and test your implementation by running the following cell.\n",
    "    </p>\n",
    "</div>"
   ]
  },
  {
   "cell_type": "code",
   "execution_count": 12,
   "metadata": {},
   "outputs": [
    {
     "name": "stdout",
     "output_type": "stream",
     "text": [
      "AffineForwardTest passed.\n",
      "AffineBackwardTestDx passed.\n",
      "AffineBackwardTestDw passed.\n",
      "AffineBackwardTestDb passed.\n",
      "Congratulations! You have passed all the unit tests!!! Tests passed: 4/4\n",
      "Score: 100/100\n",
      "You secured a score of: 100\n"
     ]
    }
   ],
   "source": [
    "# Test your affine layer implementations\n",
    "print(AffineTestWrapper()())"
   ]
  },
  {
   "cell_type": "markdown",
   "metadata": {},
   "source": [
    "## 1.4 N-layer Classification Network\n",
    "\n",
    "Now that you have all necessary building blocks, you can build up your first neural network model. However, as stated above, we have omitted some details in the initialization of said network. We advise you to take a look at our network implementation to get a feel of how everything is computed.\n",
    "\n",
    "<div class=\"alert alert-success\">\n",
    "    <h3>Task: Check Code</h3>\n",
    "    <p>Please check the implementation in <code>exercise_code/networks/classification_net.py</code>.\n",
    " </p>\n",
    "</div>\n",
    "\n",
    "We can then simply call the network as shown below in the case of a rather small two layers network using two linear layers of size $128$ as well as Relu non-linearities in-between."
   ]
  },
  {
   "cell_type": "code",
   "execution_count": 13,
   "metadata": {},
   "outputs": [
    {
     "name": "stdout",
     "output_type": "stream",
     "text": [
      "Model output shape: (1, 3)\n"
     ]
    }
   ],
   "source": [
    "# Define a dummy input\n",
    "test_input = np.random.randn(1, 10)   # (batch_size, input_size)\n",
    "\n",
    "# Define a test model\n",
    "test_model = ClassificationNet(input_size=10, \n",
    "                               hidden_size=128,\n",
    "                               activation=Relu(), \n",
    "                               num_layer=2, \n",
    "                               num_classes=3)\n",
    "\n",
    "# Compute output\n",
    "model_output = test_model.forward(test_input)\n",
    "print('Model output shape:', model_output.shape)"
   ]
  },
  {
   "cell_type": "markdown",
   "metadata": {},
   "source": [
    "# 2. CIFAR10 Dataset\n",
    "\n",
    "Great! Now that we modularized our layers and are able to build any networks based of linear layers as well as non-linearities, let's start checking out our data again!\n",
    "\n",
    "Let us first do some setup to be back at our state of after completing exercise 3."
   ]
  },
  {
   "cell_type": "code",
   "execution_count": 15,
   "metadata": {},
   "outputs": [
    {
     "name": "stdout",
     "output_type": "stream",
     "text": [
      "Downloading https://cdn3.vision.in.tum.de/~dl4cv/cifar10.zip to /Users/liaoxinwen/aima-python/i2dl/datasets/cifar10/cifar10.zip\n"
     ]
    },
    {
     "name": "stderr",
     "output_type": "stream",
     "text": [
      "\n",
      "\n",
      "0it [00:00, ?it/s]\u001b[A\u001b[A"
     ]
    },
    {
     "ename": "URLError",
     "evalue": "<urlopen error [Errno 60] Operation timed out>",
     "output_type": "error",
     "traceback": [
      "\u001b[0;31m---------------------------------------------------------------------------\u001b[0m",
      "\u001b[0;31mTimeoutError\u001b[0m                              Traceback (most recent call last)",
      "File \u001b[0;32m~/opt/anaconda3/envs/i2dl/lib/python3.10/urllib/request.py:1348\u001b[0m, in \u001b[0;36mAbstractHTTPHandler.do_open\u001b[0;34m(self, http_class, req, **http_conn_args)\u001b[0m\n\u001b[1;32m   1347\u001b[0m \u001b[38;5;28;01mtry\u001b[39;00m:\n\u001b[0;32m-> 1348\u001b[0m     \u001b[43mh\u001b[49m\u001b[38;5;241;43m.\u001b[39;49m\u001b[43mrequest\u001b[49m\u001b[43m(\u001b[49m\u001b[43mreq\u001b[49m\u001b[38;5;241;43m.\u001b[39;49m\u001b[43mget_method\u001b[49m\u001b[43m(\u001b[49m\u001b[43m)\u001b[49m\u001b[43m,\u001b[49m\u001b[43m \u001b[49m\u001b[43mreq\u001b[49m\u001b[38;5;241;43m.\u001b[39;49m\u001b[43mselector\u001b[49m\u001b[43m,\u001b[49m\u001b[43m \u001b[49m\u001b[43mreq\u001b[49m\u001b[38;5;241;43m.\u001b[39;49m\u001b[43mdata\u001b[49m\u001b[43m,\u001b[49m\u001b[43m \u001b[49m\u001b[43mheaders\u001b[49m\u001b[43m,\u001b[49m\n\u001b[1;32m   1349\u001b[0m \u001b[43m              \u001b[49m\u001b[43mencode_chunked\u001b[49m\u001b[38;5;241;43m=\u001b[39;49m\u001b[43mreq\u001b[49m\u001b[38;5;241;43m.\u001b[39;49m\u001b[43mhas_header\u001b[49m\u001b[43m(\u001b[49m\u001b[38;5;124;43m'\u001b[39;49m\u001b[38;5;124;43mTransfer-encoding\u001b[39;49m\u001b[38;5;124;43m'\u001b[39;49m\u001b[43m)\u001b[49m\u001b[43m)\u001b[49m\n\u001b[1;32m   1350\u001b[0m \u001b[38;5;28;01mexcept\u001b[39;00m \u001b[38;5;167;01mOSError\u001b[39;00m \u001b[38;5;28;01mas\u001b[39;00m err: \u001b[38;5;66;03m# timeout error\u001b[39;00m\n",
      "File \u001b[0;32m~/opt/anaconda3/envs/i2dl/lib/python3.10/http/client.py:1282\u001b[0m, in \u001b[0;36mHTTPConnection.request\u001b[0;34m(self, method, url, body, headers, encode_chunked)\u001b[0m\n\u001b[1;32m   1281\u001b[0m \u001b[38;5;124;03m\"\"\"Send a complete request to the server.\"\"\"\u001b[39;00m\n\u001b[0;32m-> 1282\u001b[0m \u001b[38;5;28;43mself\u001b[39;49m\u001b[38;5;241;43m.\u001b[39;49m\u001b[43m_send_request\u001b[49m\u001b[43m(\u001b[49m\u001b[43mmethod\u001b[49m\u001b[43m,\u001b[49m\u001b[43m \u001b[49m\u001b[43murl\u001b[49m\u001b[43m,\u001b[49m\u001b[43m \u001b[49m\u001b[43mbody\u001b[49m\u001b[43m,\u001b[49m\u001b[43m \u001b[49m\u001b[43mheaders\u001b[49m\u001b[43m,\u001b[49m\u001b[43m \u001b[49m\u001b[43mencode_chunked\u001b[49m\u001b[43m)\u001b[49m\n",
      "File \u001b[0;32m~/opt/anaconda3/envs/i2dl/lib/python3.10/http/client.py:1328\u001b[0m, in \u001b[0;36mHTTPConnection._send_request\u001b[0;34m(self, method, url, body, headers, encode_chunked)\u001b[0m\n\u001b[1;32m   1327\u001b[0m     body \u001b[38;5;241m=\u001b[39m _encode(body, \u001b[38;5;124m'\u001b[39m\u001b[38;5;124mbody\u001b[39m\u001b[38;5;124m'\u001b[39m)\n\u001b[0;32m-> 1328\u001b[0m \u001b[38;5;28;43mself\u001b[39;49m\u001b[38;5;241;43m.\u001b[39;49m\u001b[43mendheaders\u001b[49m\u001b[43m(\u001b[49m\u001b[43mbody\u001b[49m\u001b[43m,\u001b[49m\u001b[43m \u001b[49m\u001b[43mencode_chunked\u001b[49m\u001b[38;5;241;43m=\u001b[39;49m\u001b[43mencode_chunked\u001b[49m\u001b[43m)\u001b[49m\n",
      "File \u001b[0;32m~/opt/anaconda3/envs/i2dl/lib/python3.10/http/client.py:1277\u001b[0m, in \u001b[0;36mHTTPConnection.endheaders\u001b[0;34m(self, message_body, encode_chunked)\u001b[0m\n\u001b[1;32m   1276\u001b[0m     \u001b[38;5;28;01mraise\u001b[39;00m CannotSendHeader()\n\u001b[0;32m-> 1277\u001b[0m \u001b[38;5;28;43mself\u001b[39;49m\u001b[38;5;241;43m.\u001b[39;49m\u001b[43m_send_output\u001b[49m\u001b[43m(\u001b[49m\u001b[43mmessage_body\u001b[49m\u001b[43m,\u001b[49m\u001b[43m \u001b[49m\u001b[43mencode_chunked\u001b[49m\u001b[38;5;241;43m=\u001b[39;49m\u001b[43mencode_chunked\u001b[49m\u001b[43m)\u001b[49m\n",
      "File \u001b[0;32m~/opt/anaconda3/envs/i2dl/lib/python3.10/http/client.py:1037\u001b[0m, in \u001b[0;36mHTTPConnection._send_output\u001b[0;34m(self, message_body, encode_chunked)\u001b[0m\n\u001b[1;32m   1036\u001b[0m \u001b[38;5;28;01mdel\u001b[39;00m \u001b[38;5;28mself\u001b[39m\u001b[38;5;241m.\u001b[39m_buffer[:]\n\u001b[0;32m-> 1037\u001b[0m \u001b[38;5;28;43mself\u001b[39;49m\u001b[38;5;241;43m.\u001b[39;49m\u001b[43msend\u001b[49m\u001b[43m(\u001b[49m\u001b[43mmsg\u001b[49m\u001b[43m)\u001b[49m\n\u001b[1;32m   1039\u001b[0m \u001b[38;5;28;01mif\u001b[39;00m message_body \u001b[38;5;129;01mis\u001b[39;00m \u001b[38;5;129;01mnot\u001b[39;00m \u001b[38;5;28;01mNone\u001b[39;00m:\n\u001b[1;32m   1040\u001b[0m \n\u001b[1;32m   1041\u001b[0m     \u001b[38;5;66;03m# create a consistent interface to message_body\u001b[39;00m\n",
      "File \u001b[0;32m~/opt/anaconda3/envs/i2dl/lib/python3.10/http/client.py:975\u001b[0m, in \u001b[0;36mHTTPConnection.send\u001b[0;34m(self, data)\u001b[0m\n\u001b[1;32m    974\u001b[0m \u001b[38;5;28;01mif\u001b[39;00m \u001b[38;5;28mself\u001b[39m\u001b[38;5;241m.\u001b[39mauto_open:\n\u001b[0;32m--> 975\u001b[0m     \u001b[38;5;28;43mself\u001b[39;49m\u001b[38;5;241;43m.\u001b[39;49m\u001b[43mconnect\u001b[49m\u001b[43m(\u001b[49m\u001b[43m)\u001b[49m\n\u001b[1;32m    976\u001b[0m \u001b[38;5;28;01melse\u001b[39;00m:\n",
      "File \u001b[0;32m~/opt/anaconda3/envs/i2dl/lib/python3.10/http/client.py:1447\u001b[0m, in \u001b[0;36mHTTPSConnection.connect\u001b[0;34m(self)\u001b[0m\n\u001b[1;32m   1445\u001b[0m \u001b[38;5;124m\"\u001b[39m\u001b[38;5;124mConnect to a host on a given (SSL) port.\u001b[39m\u001b[38;5;124m\"\u001b[39m\n\u001b[0;32m-> 1447\u001b[0m \u001b[38;5;28;43msuper\u001b[39;49m\u001b[43m(\u001b[49m\u001b[43m)\u001b[49m\u001b[38;5;241;43m.\u001b[39;49m\u001b[43mconnect\u001b[49m\u001b[43m(\u001b[49m\u001b[43m)\u001b[49m\n\u001b[1;32m   1449\u001b[0m \u001b[38;5;28;01mif\u001b[39;00m \u001b[38;5;28mself\u001b[39m\u001b[38;5;241m.\u001b[39m_tunnel_host:\n",
      "File \u001b[0;32m~/opt/anaconda3/envs/i2dl/lib/python3.10/http/client.py:941\u001b[0m, in \u001b[0;36mHTTPConnection.connect\u001b[0;34m(self)\u001b[0m\n\u001b[1;32m    940\u001b[0m sys\u001b[38;5;241m.\u001b[39maudit(\u001b[38;5;124m\"\u001b[39m\u001b[38;5;124mhttp.client.connect\u001b[39m\u001b[38;5;124m\"\u001b[39m, \u001b[38;5;28mself\u001b[39m, \u001b[38;5;28mself\u001b[39m\u001b[38;5;241m.\u001b[39mhost, \u001b[38;5;28mself\u001b[39m\u001b[38;5;241m.\u001b[39mport)\n\u001b[0;32m--> 941\u001b[0m \u001b[38;5;28mself\u001b[39m\u001b[38;5;241m.\u001b[39msock \u001b[38;5;241m=\u001b[39m \u001b[38;5;28;43mself\u001b[39;49m\u001b[38;5;241;43m.\u001b[39;49m\u001b[43m_create_connection\u001b[49m\u001b[43m(\u001b[49m\n\u001b[1;32m    942\u001b[0m \u001b[43m    \u001b[49m\u001b[43m(\u001b[49m\u001b[38;5;28;43mself\u001b[39;49m\u001b[38;5;241;43m.\u001b[39;49m\u001b[43mhost\u001b[49m\u001b[43m,\u001b[49m\u001b[38;5;28;43mself\u001b[39;49m\u001b[38;5;241;43m.\u001b[39;49m\u001b[43mport\u001b[49m\u001b[43m)\u001b[49m\u001b[43m,\u001b[49m\u001b[43m \u001b[49m\u001b[38;5;28;43mself\u001b[39;49m\u001b[38;5;241;43m.\u001b[39;49m\u001b[43mtimeout\u001b[49m\u001b[43m,\u001b[49m\u001b[43m \u001b[49m\u001b[38;5;28;43mself\u001b[39;49m\u001b[38;5;241;43m.\u001b[39;49m\u001b[43msource_address\u001b[49m\u001b[43m)\u001b[49m\n\u001b[1;32m    943\u001b[0m \u001b[38;5;66;03m# Might fail in OSs that don't implement TCP_NODELAY\u001b[39;00m\n",
      "File \u001b[0;32m~/opt/anaconda3/envs/i2dl/lib/python3.10/socket.py:845\u001b[0m, in \u001b[0;36mcreate_connection\u001b[0;34m(address, timeout, source_address)\u001b[0m\n\u001b[1;32m    844\u001b[0m \u001b[38;5;28;01mtry\u001b[39;00m:\n\u001b[0;32m--> 845\u001b[0m     \u001b[38;5;28;01mraise\u001b[39;00m err\n\u001b[1;32m    846\u001b[0m \u001b[38;5;28;01mfinally\u001b[39;00m:\n\u001b[1;32m    847\u001b[0m     \u001b[38;5;66;03m# Break explicitly a reference cycle\u001b[39;00m\n",
      "File \u001b[0;32m~/opt/anaconda3/envs/i2dl/lib/python3.10/socket.py:833\u001b[0m, in \u001b[0;36mcreate_connection\u001b[0;34m(address, timeout, source_address)\u001b[0m\n\u001b[1;32m    832\u001b[0m     sock\u001b[38;5;241m.\u001b[39mbind(source_address)\n\u001b[0;32m--> 833\u001b[0m \u001b[43msock\u001b[49m\u001b[38;5;241;43m.\u001b[39;49m\u001b[43mconnect\u001b[49m\u001b[43m(\u001b[49m\u001b[43msa\u001b[49m\u001b[43m)\u001b[49m\n\u001b[1;32m    834\u001b[0m \u001b[38;5;66;03m# Break explicitly a reference cycle\u001b[39;00m\n",
      "\u001b[0;31mTimeoutError\u001b[0m: [Errno 60] Operation timed out",
      "\nDuring handling of the above exception, another exception occurred:\n",
      "\u001b[0;31mURLError\u001b[0m                                  Traceback (most recent call last)",
      "Input \u001b[0;32mIn [15]\u001b[0m, in \u001b[0;36m<cell line: 12>\u001b[0;34m()\u001b[0m\n\u001b[1;32m      6\u001b[0m classes \u001b[38;5;241m=\u001b[39m [\n\u001b[1;32m      7\u001b[0m     \u001b[38;5;124m'\u001b[39m\u001b[38;5;124mplane\u001b[39m\u001b[38;5;124m'\u001b[39m, \u001b[38;5;124m'\u001b[39m\u001b[38;5;124mcar\u001b[39m\u001b[38;5;124m'\u001b[39m, \u001b[38;5;124m'\u001b[39m\u001b[38;5;124mbird\u001b[39m\u001b[38;5;124m'\u001b[39m, \u001b[38;5;124m'\u001b[39m\u001b[38;5;124mcat\u001b[39m\u001b[38;5;124m'\u001b[39m, \u001b[38;5;124m'\u001b[39m\u001b[38;5;124mdeer\u001b[39m\u001b[38;5;124m'\u001b[39m,\n\u001b[1;32m      8\u001b[0m     \u001b[38;5;124m'\u001b[39m\u001b[38;5;124mdog\u001b[39m\u001b[38;5;124m'\u001b[39m, \u001b[38;5;124m'\u001b[39m\u001b[38;5;124mfrog\u001b[39m\u001b[38;5;124m'\u001b[39m, \u001b[38;5;124m'\u001b[39m\u001b[38;5;124mhorse\u001b[39m\u001b[38;5;124m'\u001b[39m, \u001b[38;5;124m'\u001b[39m\u001b[38;5;124mship\u001b[39m\u001b[38;5;124m'\u001b[39m, \u001b[38;5;124m'\u001b[39m\u001b[38;5;124mtruck\u001b[39m\u001b[38;5;124m'\u001b[39m,\n\u001b[1;32m      9\u001b[0m ]\n\u001b[1;32m     11\u001b[0m \u001b[38;5;66;03m# Simply call dataset class\u001b[39;00m\n\u001b[0;32m---> 12\u001b[0m dataset \u001b[38;5;241m=\u001b[39m \u001b[43mImageFolderDataset\u001b[49m\u001b[43m(\u001b[49m\n\u001b[1;32m     13\u001b[0m \u001b[43m        \u001b[49m\u001b[43mroot\u001b[49m\u001b[38;5;241;43m=\u001b[39;49m\u001b[43mcifar_root\u001b[49m\n\u001b[1;32m     14\u001b[0m \u001b[43m    \u001b[49m\u001b[43m)\u001b[49m\n",
      "File \u001b[0;32m~/aima-python/i2dl/exercise_05/exercise_code/data/image_folder_dataset.py:23\u001b[0m, in \u001b[0;36mImageFolderDataset.__init__\u001b[0;34m(self, transform, mode, limit_files, split, download_url, *args, **kwargs)\u001b[0m\n\u001b[1;32m     19\u001b[0m \u001b[38;5;28;01mdef\u001b[39;00m \u001b[38;5;21m__init__\u001b[39m(\u001b[38;5;28mself\u001b[39m, \u001b[38;5;241m*\u001b[39margs, transform\u001b[38;5;241m=\u001b[39m\u001b[38;5;28;01mNone\u001b[39;00m, mode\u001b[38;5;241m=\u001b[39m\u001b[38;5;124m'\u001b[39m\u001b[38;5;124mtrain\u001b[39m\u001b[38;5;124m'\u001b[39m, limit_files\u001b[38;5;241m=\u001b[39m\u001b[38;5;28;01mNone\u001b[39;00m,\n\u001b[1;32m     20\u001b[0m              split\u001b[38;5;241m=\u001b[39m{\u001b[38;5;124m'\u001b[39m\u001b[38;5;124mtrain\u001b[39m\u001b[38;5;124m'\u001b[39m: \u001b[38;5;241m0.6\u001b[39m, \u001b[38;5;124m'\u001b[39m\u001b[38;5;124mval\u001b[39m\u001b[38;5;124m'\u001b[39m: \u001b[38;5;241m0.2\u001b[39m, \u001b[38;5;124m'\u001b[39m\u001b[38;5;124mtest\u001b[39m\u001b[38;5;124m'\u001b[39m: \u001b[38;5;241m0.2\u001b[39m},\n\u001b[1;32m     21\u001b[0m              download_url\u001b[38;5;241m=\u001b[39m\u001b[38;5;124m\"\u001b[39m\u001b[38;5;124mhttps://cdn3.vision.in.tum.de/~dl4cv/cifar10.zip\u001b[39m\u001b[38;5;124m\"\u001b[39m,\n\u001b[1;32m     22\u001b[0m              \u001b[38;5;241m*\u001b[39m\u001b[38;5;241m*\u001b[39mkwargs):\n\u001b[0;32m---> 23\u001b[0m     \u001b[38;5;28;43msuper\u001b[39;49m\u001b[43m(\u001b[49m\u001b[43m)\u001b[49m\u001b[38;5;241;43m.\u001b[39;49m\u001b[38;5;21;43m__init__\u001b[39;49m\u001b[43m(\u001b[49m\u001b[38;5;241;43m*\u001b[39;49m\u001b[43margs\u001b[49m\u001b[43m,\u001b[49m\u001b[43m \u001b[49m\n\u001b[1;32m     24\u001b[0m \u001b[43m                     \u001b[49m\u001b[43mdownload_url\u001b[49m\u001b[38;5;241;43m=\u001b[39;49m\u001b[43mdownload_url\u001b[49m\u001b[43m,\u001b[49m\n\u001b[1;32m     25\u001b[0m \u001b[43m                     \u001b[49m\u001b[38;5;241;43m*\u001b[39;49m\u001b[38;5;241;43m*\u001b[39;49m\u001b[43mkwargs\u001b[49m\u001b[43m)\u001b[49m\n\u001b[1;32m     26\u001b[0m     \u001b[38;5;28;01massert\u001b[39;00m mode \u001b[38;5;129;01min\u001b[39;00m [\u001b[38;5;124m\"\u001b[39m\u001b[38;5;124mtrain\u001b[39m\u001b[38;5;124m\"\u001b[39m, \u001b[38;5;124m\"\u001b[39m\u001b[38;5;124mval\u001b[39m\u001b[38;5;124m\"\u001b[39m, \u001b[38;5;124m\"\u001b[39m\u001b[38;5;124mtest\u001b[39m\u001b[38;5;124m\"\u001b[39m], \u001b[38;5;124m\"\u001b[39m\u001b[38;5;124mwrong mode for dataset given\u001b[39m\u001b[38;5;124m\"\u001b[39m\n\u001b[1;32m     27\u001b[0m     split_values \u001b[38;5;241m=\u001b[39m [v \u001b[38;5;28;01mfor\u001b[39;00m k,v \u001b[38;5;129;01min\u001b[39;00m split\u001b[38;5;241m.\u001b[39mitems()]\n",
      "File \u001b[0;32m~/aima-python/i2dl/exercise_05/exercise_code/data/base_dataset.py:20\u001b[0m, in \u001b[0;36mDataset.__init__\u001b[0;34m(self, root, download_url, force_download)\u001b[0m\n\u001b[1;32m     18\u001b[0m dataset_zip_name \u001b[38;5;241m=\u001b[39m download_url[download_url\u001b[38;5;241m.\u001b[39mrfind(\u001b[38;5;124m'\u001b[39m\u001b[38;5;124m/\u001b[39m\u001b[38;5;124m'\u001b[39m)\u001b[38;5;241m+\u001b[39m\u001b[38;5;241m1\u001b[39m:]\n\u001b[1;32m     19\u001b[0m \u001b[38;5;28mself\u001b[39m\u001b[38;5;241m.\u001b[39mdataset_zip_name \u001b[38;5;241m=\u001b[39m dataset_zip_name\n\u001b[0;32m---> 20\u001b[0m \u001b[43mdownload_dataset\u001b[49m\u001b[43m(\u001b[49m\n\u001b[1;32m     21\u001b[0m \u001b[43m    \u001b[49m\u001b[43murl\u001b[49m\u001b[38;5;241;43m=\u001b[39;49m\u001b[43mdownload_url\u001b[49m\u001b[43m,\u001b[49m\n\u001b[1;32m     22\u001b[0m \u001b[43m    \u001b[49m\u001b[43mdata_dir\u001b[49m\u001b[38;5;241;43m=\u001b[39;49m\u001b[43mroot\u001b[49m\u001b[43m,\u001b[49m\n\u001b[1;32m     23\u001b[0m \u001b[43m    \u001b[49m\u001b[43mdataset_zip_name\u001b[49m\u001b[38;5;241;43m=\u001b[39;49m\u001b[43mdataset_zip_name\u001b[49m\u001b[43m,\u001b[49m\n\u001b[1;32m     24\u001b[0m \u001b[43m    \u001b[49m\u001b[43mforce_download\u001b[49m\u001b[38;5;241;43m=\u001b[39;49m\u001b[43mforce_download\u001b[49m\u001b[43m,\u001b[49m\n\u001b[1;32m     25\u001b[0m \u001b[43m\u001b[49m\u001b[43m)\u001b[49m\n",
      "File \u001b[0;32m~/aima-python/i2dl/exercise_05/exercise_code/data/download_utils.py:123\u001b[0m, in \u001b[0;36mdownload_dataset\u001b[0;34m(url, data_dir, dataset_zip_name, force_download)\u001b[0m\n\u001b[1;32m    121\u001b[0m \u001b[38;5;28;01mif\u001b[39;00m os\u001b[38;5;241m.\u001b[39mpath\u001b[38;5;241m.\u001b[39mexists(data_dir):\n\u001b[1;32m    122\u001b[0m     shutil\u001b[38;5;241m.\u001b[39mrmtree(data_dir)\n\u001b[0;32m--> 123\u001b[0m data_file \u001b[38;5;241m=\u001b[39m \u001b[43mdownload_url\u001b[49m\u001b[43m(\u001b[49m\u001b[43murl\u001b[49m\u001b[43m,\u001b[49m\u001b[43m \u001b[49m\u001b[43mdata_dir\u001b[49m\u001b[43m,\u001b[49m\u001b[43m \u001b[49m\u001b[43mdataset_zip_name\u001b[49m\u001b[43m)\u001b[49m\n\u001b[1;32m    124\u001b[0m extract_archive(data_file, remove_finished\u001b[38;5;241m=\u001b[39m\u001b[38;5;28;01mTrue\u001b[39;00m)\n",
      "File \u001b[0;32m~/aima-python/i2dl/exercise_05/exercise_code/data/download_utils.py:39\u001b[0m, in \u001b[0;36mdownload_url\u001b[0;34m(url, root, filename)\u001b[0m\n\u001b[1;32m     37\u001b[0m \u001b[38;5;28;01mif\u001b[39;00m \u001b[38;5;129;01mnot\u001b[39;00m os\u001b[38;5;241m.\u001b[39mpath\u001b[38;5;241m.\u001b[39mexists(file_path):\n\u001b[1;32m     38\u001b[0m     \u001b[38;5;28mprint\u001b[39m(\u001b[38;5;124m'\u001b[39m\u001b[38;5;124mDownloading \u001b[39m\u001b[38;5;124m'\u001b[39m \u001b[38;5;241m+\u001b[39m url \u001b[38;5;241m+\u001b[39m \u001b[38;5;124m'\u001b[39m\u001b[38;5;124m to \u001b[39m\u001b[38;5;124m'\u001b[39m \u001b[38;5;241m+\u001b[39m file_path)\n\u001b[0;32m---> 39\u001b[0m     \u001b[43murllib\u001b[49m\u001b[38;5;241;43m.\u001b[39;49m\u001b[43mrequest\u001b[49m\u001b[38;5;241;43m.\u001b[39;49m\u001b[43murlretrieve\u001b[49m\u001b[43m(\u001b[49m\n\u001b[1;32m     40\u001b[0m \u001b[43m        \u001b[49m\u001b[43murl\u001b[49m\u001b[43m,\u001b[49m\n\u001b[1;32m     41\u001b[0m \u001b[43m        \u001b[49m\u001b[43mfile_path\u001b[49m\u001b[43m,\u001b[49m\n\u001b[1;32m     42\u001b[0m \u001b[43m        \u001b[49m\u001b[43mreporthook\u001b[49m\u001b[38;5;241;43m=\u001b[39;49m\u001b[43mgen_bar_updater\u001b[49m\u001b[43m(\u001b[49m\u001b[43m)\u001b[49m\n\u001b[1;32m     43\u001b[0m \u001b[43m    \u001b[49m\u001b[43m)\u001b[49m\n\u001b[1;32m     44\u001b[0m \u001b[38;5;28;01mreturn\u001b[39;00m file_path\n",
      "File \u001b[0;32m~/opt/anaconda3/envs/i2dl/lib/python3.10/urllib/request.py:241\u001b[0m, in \u001b[0;36murlretrieve\u001b[0;34m(url, filename, reporthook, data)\u001b[0m\n\u001b[1;32m    224\u001b[0m \u001b[38;5;124;03m\"\"\"\u001b[39;00m\n\u001b[1;32m    225\u001b[0m \u001b[38;5;124;03mRetrieve a URL into a temporary location on disk.\u001b[39;00m\n\u001b[1;32m    226\u001b[0m \n\u001b[0;32m   (...)\u001b[0m\n\u001b[1;32m    237\u001b[0m \u001b[38;5;124;03mdata file as well as the resulting HTTPMessage object.\u001b[39;00m\n\u001b[1;32m    238\u001b[0m \u001b[38;5;124;03m\"\"\"\u001b[39;00m\n\u001b[1;32m    239\u001b[0m url_type, path \u001b[38;5;241m=\u001b[39m _splittype(url)\n\u001b[0;32m--> 241\u001b[0m \u001b[38;5;28;01mwith\u001b[39;00m contextlib\u001b[38;5;241m.\u001b[39mclosing(\u001b[43murlopen\u001b[49m\u001b[43m(\u001b[49m\u001b[43murl\u001b[49m\u001b[43m,\u001b[49m\u001b[43m \u001b[49m\u001b[43mdata\u001b[49m\u001b[43m)\u001b[49m) \u001b[38;5;28;01mas\u001b[39;00m fp:\n\u001b[1;32m    242\u001b[0m     headers \u001b[38;5;241m=\u001b[39m fp\u001b[38;5;241m.\u001b[39minfo()\n\u001b[1;32m    244\u001b[0m     \u001b[38;5;66;03m# Just return the local path and the \"headers\" for file://\u001b[39;00m\n\u001b[1;32m    245\u001b[0m     \u001b[38;5;66;03m# URLs. No sense in performing a copy unless requested.\u001b[39;00m\n",
      "File \u001b[0;32m~/opt/anaconda3/envs/i2dl/lib/python3.10/urllib/request.py:216\u001b[0m, in \u001b[0;36murlopen\u001b[0;34m(url, data, timeout, cafile, capath, cadefault, context)\u001b[0m\n\u001b[1;32m    214\u001b[0m \u001b[38;5;28;01melse\u001b[39;00m:\n\u001b[1;32m    215\u001b[0m     opener \u001b[38;5;241m=\u001b[39m _opener\n\u001b[0;32m--> 216\u001b[0m \u001b[38;5;28;01mreturn\u001b[39;00m \u001b[43mopener\u001b[49m\u001b[38;5;241;43m.\u001b[39;49m\u001b[43mopen\u001b[49m\u001b[43m(\u001b[49m\u001b[43murl\u001b[49m\u001b[43m,\u001b[49m\u001b[43m \u001b[49m\u001b[43mdata\u001b[49m\u001b[43m,\u001b[49m\u001b[43m \u001b[49m\u001b[43mtimeout\u001b[49m\u001b[43m)\u001b[49m\n",
      "File \u001b[0;32m~/opt/anaconda3/envs/i2dl/lib/python3.10/urllib/request.py:519\u001b[0m, in \u001b[0;36mOpenerDirector.open\u001b[0;34m(self, fullurl, data, timeout)\u001b[0m\n\u001b[1;32m    516\u001b[0m     req \u001b[38;5;241m=\u001b[39m meth(req)\n\u001b[1;32m    518\u001b[0m sys\u001b[38;5;241m.\u001b[39maudit(\u001b[38;5;124m'\u001b[39m\u001b[38;5;124murllib.Request\u001b[39m\u001b[38;5;124m'\u001b[39m, req\u001b[38;5;241m.\u001b[39mfull_url, req\u001b[38;5;241m.\u001b[39mdata, req\u001b[38;5;241m.\u001b[39mheaders, req\u001b[38;5;241m.\u001b[39mget_method())\n\u001b[0;32m--> 519\u001b[0m response \u001b[38;5;241m=\u001b[39m \u001b[38;5;28;43mself\u001b[39;49m\u001b[38;5;241;43m.\u001b[39;49m\u001b[43m_open\u001b[49m\u001b[43m(\u001b[49m\u001b[43mreq\u001b[49m\u001b[43m,\u001b[49m\u001b[43m \u001b[49m\u001b[43mdata\u001b[49m\u001b[43m)\u001b[49m\n\u001b[1;32m    521\u001b[0m \u001b[38;5;66;03m# post-process response\u001b[39;00m\n\u001b[1;32m    522\u001b[0m meth_name \u001b[38;5;241m=\u001b[39m protocol\u001b[38;5;241m+\u001b[39m\u001b[38;5;124m\"\u001b[39m\u001b[38;5;124m_response\u001b[39m\u001b[38;5;124m\"\u001b[39m\n",
      "File \u001b[0;32m~/opt/anaconda3/envs/i2dl/lib/python3.10/urllib/request.py:536\u001b[0m, in \u001b[0;36mOpenerDirector._open\u001b[0;34m(self, req, data)\u001b[0m\n\u001b[1;32m    533\u001b[0m     \u001b[38;5;28;01mreturn\u001b[39;00m result\n\u001b[1;32m    535\u001b[0m protocol \u001b[38;5;241m=\u001b[39m req\u001b[38;5;241m.\u001b[39mtype\n\u001b[0;32m--> 536\u001b[0m result \u001b[38;5;241m=\u001b[39m \u001b[38;5;28;43mself\u001b[39;49m\u001b[38;5;241;43m.\u001b[39;49m\u001b[43m_call_chain\u001b[49m\u001b[43m(\u001b[49m\u001b[38;5;28;43mself\u001b[39;49m\u001b[38;5;241;43m.\u001b[39;49m\u001b[43mhandle_open\u001b[49m\u001b[43m,\u001b[49m\u001b[43m \u001b[49m\u001b[43mprotocol\u001b[49m\u001b[43m,\u001b[49m\u001b[43m \u001b[49m\u001b[43mprotocol\u001b[49m\u001b[43m \u001b[49m\u001b[38;5;241;43m+\u001b[39;49m\n\u001b[1;32m    537\u001b[0m \u001b[43m                          \u001b[49m\u001b[38;5;124;43m'\u001b[39;49m\u001b[38;5;124;43m_open\u001b[39;49m\u001b[38;5;124;43m'\u001b[39;49m\u001b[43m,\u001b[49m\u001b[43m \u001b[49m\u001b[43mreq\u001b[49m\u001b[43m)\u001b[49m\n\u001b[1;32m    538\u001b[0m \u001b[38;5;28;01mif\u001b[39;00m result:\n\u001b[1;32m    539\u001b[0m     \u001b[38;5;28;01mreturn\u001b[39;00m result\n",
      "File \u001b[0;32m~/opt/anaconda3/envs/i2dl/lib/python3.10/urllib/request.py:496\u001b[0m, in \u001b[0;36mOpenerDirector._call_chain\u001b[0;34m(self, chain, kind, meth_name, *args)\u001b[0m\n\u001b[1;32m    494\u001b[0m \u001b[38;5;28;01mfor\u001b[39;00m handler \u001b[38;5;129;01min\u001b[39;00m handlers:\n\u001b[1;32m    495\u001b[0m     func \u001b[38;5;241m=\u001b[39m \u001b[38;5;28mgetattr\u001b[39m(handler, meth_name)\n\u001b[0;32m--> 496\u001b[0m     result \u001b[38;5;241m=\u001b[39m \u001b[43mfunc\u001b[49m\u001b[43m(\u001b[49m\u001b[38;5;241;43m*\u001b[39;49m\u001b[43margs\u001b[49m\u001b[43m)\u001b[49m\n\u001b[1;32m    497\u001b[0m     \u001b[38;5;28;01mif\u001b[39;00m result \u001b[38;5;129;01mis\u001b[39;00m \u001b[38;5;129;01mnot\u001b[39;00m \u001b[38;5;28;01mNone\u001b[39;00m:\n\u001b[1;32m    498\u001b[0m         \u001b[38;5;28;01mreturn\u001b[39;00m result\n",
      "File \u001b[0;32m~/opt/anaconda3/envs/i2dl/lib/python3.10/urllib/request.py:1391\u001b[0m, in \u001b[0;36mHTTPSHandler.https_open\u001b[0;34m(self, req)\u001b[0m\n\u001b[1;32m   1390\u001b[0m \u001b[38;5;28;01mdef\u001b[39;00m \u001b[38;5;21mhttps_open\u001b[39m(\u001b[38;5;28mself\u001b[39m, req):\n\u001b[0;32m-> 1391\u001b[0m     \u001b[38;5;28;01mreturn\u001b[39;00m \u001b[38;5;28;43mself\u001b[39;49m\u001b[38;5;241;43m.\u001b[39;49m\u001b[43mdo_open\u001b[49m\u001b[43m(\u001b[49m\u001b[43mhttp\u001b[49m\u001b[38;5;241;43m.\u001b[39;49m\u001b[43mclient\u001b[49m\u001b[38;5;241;43m.\u001b[39;49m\u001b[43mHTTPSConnection\u001b[49m\u001b[43m,\u001b[49m\u001b[43m \u001b[49m\u001b[43mreq\u001b[49m\u001b[43m,\u001b[49m\n\u001b[1;32m   1392\u001b[0m \u001b[43m        \u001b[49m\u001b[43mcontext\u001b[49m\u001b[38;5;241;43m=\u001b[39;49m\u001b[38;5;28;43mself\u001b[39;49m\u001b[38;5;241;43m.\u001b[39;49m\u001b[43m_context\u001b[49m\u001b[43m,\u001b[49m\u001b[43m \u001b[49m\u001b[43mcheck_hostname\u001b[49m\u001b[38;5;241;43m=\u001b[39;49m\u001b[38;5;28;43mself\u001b[39;49m\u001b[38;5;241;43m.\u001b[39;49m\u001b[43m_check_hostname\u001b[49m\u001b[43m)\u001b[49m\n",
      "File \u001b[0;32m~/opt/anaconda3/envs/i2dl/lib/python3.10/urllib/request.py:1351\u001b[0m, in \u001b[0;36mAbstractHTTPHandler.do_open\u001b[0;34m(self, http_class, req, **http_conn_args)\u001b[0m\n\u001b[1;32m   1348\u001b[0m         h\u001b[38;5;241m.\u001b[39mrequest(req\u001b[38;5;241m.\u001b[39mget_method(), req\u001b[38;5;241m.\u001b[39mselector, req\u001b[38;5;241m.\u001b[39mdata, headers,\n\u001b[1;32m   1349\u001b[0m                   encode_chunked\u001b[38;5;241m=\u001b[39mreq\u001b[38;5;241m.\u001b[39mhas_header(\u001b[38;5;124m'\u001b[39m\u001b[38;5;124mTransfer-encoding\u001b[39m\u001b[38;5;124m'\u001b[39m))\n\u001b[1;32m   1350\u001b[0m     \u001b[38;5;28;01mexcept\u001b[39;00m \u001b[38;5;167;01mOSError\u001b[39;00m \u001b[38;5;28;01mas\u001b[39;00m err: \u001b[38;5;66;03m# timeout error\u001b[39;00m\n\u001b[0;32m-> 1351\u001b[0m         \u001b[38;5;28;01mraise\u001b[39;00m URLError(err)\n\u001b[1;32m   1352\u001b[0m     r \u001b[38;5;241m=\u001b[39m h\u001b[38;5;241m.\u001b[39mgetresponse()\n\u001b[1;32m   1353\u001b[0m \u001b[38;5;28;01mexcept\u001b[39;00m:\n",
      "\u001b[0;31mURLError\u001b[0m: <urlopen error [Errno 60] Operation timed out>"
     ]
    }
   ],
   "source": [
    "# Define output path similar to exercise 3\n",
    "i2dl_exercises_path = os.path.dirname(os.path.abspath(os.getcwd()))\n",
    "cifar_root = os.path.join(i2dl_exercises_path, \"datasets\", \"cifar10\")\n",
    "\n",
    "# Dictionary so that we can convert label indices to actual label names\n",
    "classes = [\n",
    "    'plane', 'car', 'bird', 'cat', 'deer',\n",
    "    'dog', 'frog', 'horse', 'ship', 'truck',\n",
    "]\n",
    "\n",
    "# Simply call dataset class\n",
    "dataset = ImageFolderDataset(\n",
    "        root=cifar_root\n",
    "    )"
   ]
  },
  {
   "cell_type": "markdown",
   "metadata": {},
   "source": [
    "Now we can set up a dataset iterate over it and visualize images as well as labels easily just like that."
   ]
  },
  {
   "cell_type": "code",
   "execution_count": null,
   "metadata": {},
   "outputs": [],
   "source": [
    "num_images = 3\n",
    "\n",
    "for i in range(num_images):\n",
    "    item = dataset[i]\n",
    "    image = item['image']\n",
    "    label = item['label']\n",
    "    \n",
    "    # Print shape and label\n",
    "    print('Sample {}\\nimage shape: {}\\nlabel: {}'.format(\n",
    "        i, image.shape, classes[label]))\n",
    "    \n",
    "    # Visualize image\n",
    "    plt.subplot(1, num_images, 1 + i)\n",
    "    plt.imshow(image.astype('uint8'))\n",
    "\n",
    "print('\\nSample images')\n",
    "plt.show()"
   ]
  },
  {
   "cell_type": "markdown",
   "metadata": {},
   "source": [
    "Cool. We are basically done at this point bar transforms. In exercise 3 we made sure to normalize our images so we should do it here as well.\n",
    "\n",
    "However, we also have to consider our network to accommodate the dataset output to our network input. In our case, we require a one dimensional input vector. The simplest way to realize this is to flatten the vector which we do so by an additional transform and compose all of them together such as described below."
   ]
  },
  {
   "cell_type": "code",
   "execution_count": null,
   "metadata": {},
   "outputs": [],
   "source": [
    "# Use the Cifar10 mean and standard deviation computed in Exercise 3.\n",
    "cifar_mean = np.array([0.49191375, 0.48235852, 0.44673872])\n",
    "cifar_std  = np.array([0.24706447, 0.24346213, 0.26147554])\n",
    "\n",
    "# Define all the transforms we will apply on the images when \n",
    "# retrieving them.\n",
    "rescale_transform = RescaleTransform()\n",
    "normalize_transform = NormalizeTransform(\n",
    "    mean=cifar_mean,\n",
    "    std=cifar_std\n",
    ")\n",
    "\n",
    "# Add the new flatten transform\n",
    "flatten_transform = FlattenTransform()\n",
    "\n",
    "# And string them together\n",
    "compose_transform = ComposeTransform([\n",
    "    rescale_transform, \n",
    "    normalize_transform,\n",
    "    flatten_transform\n",
    "])"
   ]
  },
  {
   "cell_type": "markdown",
   "metadata": {},
   "source": [
    "Now, our outputs are sufficiently resized and we can apply our transforms on initializing our dataset. \n",
    "\n",
    "Before testing any deep learning pipeline, you should overfit on a small sample first which will be our goal for this notebook: we only take $1\\%$ (or 500 images) of our training data to overfit on later and set up our dataset and dataloader accordingly."
   ]
  },
  {
   "cell_type": "markdown",
   "metadata": {},
   "source": [
    "### The crux of loading from disk\n",
    "If you are using google colab or store your files on a local HDD, iterating over dataset takes quite some time. This is problematic, since we want to iterate over the dataset in future exercises. The issue is that we have acess single files every time we access a dataset element which are then loaded into the memory.\n",
    "\n",
    "Luckily, the CIFAR10 dataset is small enough to fit into the memory for most systems since it's total file size is around 1.2GB. \n",
    "\n",
    "<div class=\"alert alert-danger\">\n",
    "    <h3>Warning</h3>\n",
    "    <p>Loading the whole dataset into memory will not work if you are using a machine with 4GB of RAM or less (depending on your other programs such as memory hungry web browsers). Consider closing some open programs or simply use the local on-demand ImageFolderDataset.</p>\n",
    "    <p>In addition we want to warn you that everytime you execute a cell like \"dataset2 = MemoryImageFolderDataset...\" you are loading a 1.2GB matrix into your memory. If you do this often enough this notebook will crash on every machine. Therefore, we make sure to always use a single variable \"dataset\" which will be overwritten by future cells to avoid straining your memory too much.</p>\n",
    "</div>\n",
    "\n",
    "We created a second CIFAR10 dataset for you where we load all images into the memory instantly instead of loading them on demand at access time, which speeds up the loading speed immensly, especially on google colab. You can check out the code under `exercise_coder/data/image_folder_dataset`."
   ]
  },
  {
   "cell_type": "code",
   "execution_count": null,
   "metadata": {},
   "outputs": [],
   "source": [
    "# Don't execute this cell on low RAM machines\n",
    "from exercise_code.data import MemoryImageFolderDataset\n",
    "### colab only ###\n",
    "# import urllib.request\n",
    "### colab only ###\n"
   ]
  },
  {
   "cell_type": "markdown",
   "metadata": {},
   "source": [
    "### Choose your preferred dataset here\n",
    "If you want to switch to the MemoryImageFolderDataset for the remaining notebook, please change the following cell"
   ]
  },
  {
   "cell_type": "code",
   "execution_count": null,
   "metadata": {},
   "outputs": [],
   "source": [
    "DATASET = ImageFolderDataset\n",
    "#DATASET = MemoryImageFolderDataset"
   ]
  },
  {
   "cell_type": "code",
   "execution_count": null,
   "metadata": {},
   "outputs": [],
   "source": [
    "# Create a dataset and dataloader\n",
    "batch_size = 8\n",
    "\n",
    "dataset = DATASET(\n",
    "    mode='train',\n",
    "    root=cifar_root,\n",
    "    transform=compose_transform,\n",
    "    split={'train': 0.01, 'val': 0.2, 'test': 0.79}\n",
    ")\n",
    "    \n",
    "dataloader = DataLoader(\n",
    "    dataset=dataset,\n",
    "    batch_size=batch_size,\n",
    "    shuffle=True,\n",
    "    drop_last=True,\n",
    ")\n",
    "\n",
    "print('Dataset size:', len(dataset))\n",
    "print('Dataloader size:', len(dataloader))"
   ]
  },
  {
   "cell_type": "markdown",
   "metadata": {},
   "source": [
    "Let's do a quick check if the image input is sufficient. An image should be a single array of size $3*32*32$ and we should have `batch_size` of them per batch."
   ]
  },
  {
   "cell_type": "code",
   "execution_count": null,
   "metadata": {},
   "outputs": [],
   "source": [
    "num_batches = 3\n",
    "\n",
    "for i, item in enumerate(dataloader):\n",
    "    image_batch = item['image']\n",
    "    print('Batch {} image shape: {}'.format(i, image_batch.shape))\n",
    "    \n",
    "    if i >= num_batches-1:\n",
    "        break"
   ]
  },
  {
   "cell_type": "markdown",
   "metadata": {},
   "source": [
    "OK, now we have to define a network that can work with those inputs. For simplicity, we are starting with a small two-layer neural network with two hidden layers of size 128."
   ]
  },
  {
   "cell_type": "code",
   "execution_count": null,
   "metadata": {},
   "outputs": [],
   "source": [
    "# First get dataset entry for our network input size\n",
    "sample_image = dataset[0]['image']\n",
    "\n",
    "input_size = sample_image.shape[0]\n",
    "print('Input size:', input_size)\n",
    "\n",
    "# Define our model\n",
    "model = ClassificationNet(input_size=input_size, \n",
    "                          hidden_size=128,\n",
    "                          activation=Relu(), \n",
    "                          num_layer=2, \n",
    "                          num_classes=10)"
   ]
  },
  {
   "cell_type": "markdown",
   "metadata": {},
   "source": [
    "Similarly to above we can use our dataloader to iterate over the dataloader and now apply our network on each batch:"
   ]
  },
  {
   "cell_type": "code",
   "execution_count": null,
   "metadata": {},
   "outputs": [],
   "source": [
    "# Iterate over the network using our dataloader\n",
    "for i, item in enumerate(dataloader):\n",
    "    images = item['image']\n",
    "    \n",
    "    output = model.forward(images)\n",
    "    \n",
    "    print('Batch {} output shape {}'.format(i, output.shape))\n",
    "    if i >= num_batches-1:\n",
    "        break"
   ]
  },
  {
   "cell_type": "markdown",
   "metadata": {},
   "source": [
    "Great, let's move on.\n",
    "\n",
    "# 3. Cross-Entropy/Softmax Loss from Logits\n",
    "\n",
    "There is still something left to fix before we can start though. In exercise 4 you tackled a binary problem. However, CIFAR10 consists of 10 classes. Therefore, we can't just simply use a binary objective function. Luckily, we can generalize our Binary Cross-Entropy Loss from exercise 4.\n",
    "\n",
    "<div class=\"alert alert-warning\">\n",
    "    <h3>Note: Softmax Loss</h3>\n",
    "    <p>This usually confuses people: in literature the general <b>Cross-Entropy</b> Loss is often simply called <b>Softmax Loss</b>, due to the Softmax activation function.\n",
    "         </p>\n",
    "</div>"
   ]
  },
  {
   "cell_type": "markdown",
   "metadata": {},
   "source": [
    "## Definition\n",
    "\n",
    "$$ CE(\\hat{y}, y) = \\frac{1}{N} \\sum_{i=1}^N \\sum_{k=1}^{C} \\Big[ -y_{ik} \\log(\\hat{y}_{ik}) \\Big] $$\n",
    "\n",
    "where:\n",
    "- $ N $ is again the number of samples\n",
    "- $ C $ is the number of classes\n",
    "- $ \\hat{y}_{ik} $ is the probability that the model assigns for the $k$'th class when the $i$'th sample is the input. \n",
    "- $y_{ik} = 1 $ iff the true label of the $i$th sample is $k$ and 0 otherwise. This is called a [one-hot encoding](https://machinelearningmastery.com/why-one-hot-encode-data-in-machine-learning/).\n",
    "\n",
    "<div class=\"alert alert-success\">\n",
    "    <h3>Task: Check Formula</h3>\n",
    "    <p>Check for yourself that when the number of classes $ C $ is 2, then binary cross-entropy is actually equivalent to cross-entropy.</p>\n",
    "</div>\n",
    "\n",
    "## From Logits\n",
    "\n",
    "If we are not applying an activation function on the last layer of our network, its outputs for each sample will not be a valid probability distribution over the classes. We call these raw outputs of the network '[logits](https://datascience.stackexchange.com/questions/31041/what-does-logits-in-machine-learning-mean/31045)' and we will apply a [softmax](https://en.wikipedia.org/wiki/Softmax_function) activation in order to obtain a valid \"probability distribution\".\n",
    "\n",
    "## Implementation\n",
    "We implemented the general formulation for you. There are some details you should check out:\n",
    "\n",
    "### Numerical Stability\n",
    "First check out the computation of the softmax itself. Recall that \n",
    "$$softmax(x)=\\sigma(x)=\\frac{e^{x_i}}{\\sum_{i=1}^ne^{x_i}}$$\n",
    "for a vector $x=(x_i)_{(1\\leq i\\leq n)}\\in\\mathbb{R}^n$.\n",
    "However, the sum in the divisor is problematic when using floating point numbers as the resulting fraction can be too small to be accurately represented and yield numerical instabilities.\n",
    "\n",
    "One solution would be to instead consider\n",
    "$$\\sigma(x-\\max_{1\\leq i\\leq n}x_i)$$\n",
    "\n",
    "which ensures that our divisor is small enough to avoid numerical instabilities.\n",
    "\n",
    "<div class=\"alert alert-success\">\n",
    "    <h3>Task: Proof</h3>\n",
    "    <p>Think about why this solves the numerical stability problem and prove that $\\sigma(x)=\\sigma(x+c)$ for any constant vector $c\\in\\mathbb{R}^n$.</p>\n",
    "</div>\n",
    "\n",
    "With that proof, we can simply switch out the softmax computation with the new vector above and avoid numerical instabilities.\n",
    "\n",
    "### Matrix Notation\n",
    "\n",
    "In order to implement the whole procedure efficiently, we use numpy to evaluate the whole batch computation. This is non-trivial, though we implement it for you in this notebook such that you can save time. We highly urge you, however, to think about the implementation for yourself first and then check out our implementation of the cross-entropy loss, including its backward pass.\n",
    "\n",
    "<div class=\"alert alert-success\">\n",
    "    <h3>Task: Check Code</h3>\n",
    "    <p>Check the implemenation of the Softmax Loss under <code>exercise_code/networks/loss/CrossEntropyFromLogits</code> including the backward pass and think through it yourself to understand the matrix operations. Finally, compare it to the binary cross-entropy implementation in the same file or your previous implementation from last week.</p>\n",
    "</div>\n",
    "\n",
    "### Sanity Check\n",
    "\n",
    "Let's quickly check if our loss formulation works as intended. Let's compute the loss of a random vector from our network defined above."
   ]
  },
  {
   "cell_type": "code",
   "execution_count": null,
   "metadata": {},
   "outputs": [],
   "source": [
    "# Set up loss\n",
    "loss_func = CrossEntropyFromLogits()\n",
    "\n",
    "# Sample input from a single image\n",
    "sample_image = dataset[0]['image']\n",
    "sample_label = dataset[0]['label']\n",
    "single_image_batch = np.expand_dims(sample_image, 0)\n",
    "single_label_batch = np.expand_dims(sample_label, 0)\n",
    "\n",
    "# Feed forward using our network\n",
    "model_output = model.forward(single_image_batch)\n",
    "\n",
    "# Loss computation\n",
    "computed_loss, _ = loss_func(model_output, single_label_batch)\n",
    "print('Loss of single image sample:', computed_loss)"
   ]
  },
  {
   "cell_type": "markdown",
   "metadata": {},
   "source": [
    "<div class=\"alert alert-success\">\n",
    "    <h3>Task: Reason</h3>\n",
    "    <p>Why do we expect our loss to be close to -log(0.1)? Explain briefly.</p>\n",
    "</div>"
   ]
  },
  {
   "cell_type": "markdown",
   "metadata": {},
   "source": [
    "# 4. Optimization\n",
    "\n",
    "We are nearly there yet. The final piece of our pipeline is to define our optimization method. In this week's lecture, you've seen a variety of possibilities at which we should take a look now.\n",
    "\n",
    "## 4.1 Gradient Descent vs Stochastic Gradient Descent\n",
    "\n",
    "For demonstration sake, let us compute the memory required to do a full gradient descent update on our small CIFAR10 dataset consisting of 500 images."
   ]
  },
  {
   "cell_type": "code",
   "execution_count": null,
   "metadata": {},
   "outputs": [],
   "source": [
    "# Define our model again\n",
    "model = ClassificationNet(input_size=input_size, \n",
    "                          hidden_size=128,\n",
    "                          activation=Relu(), \n",
    "                          num_layer=2, \n",
    "                          num_classes=10)"
   ]
  },
  {
   "cell_type": "markdown",
   "metadata": {},
   "source": [
    "In order to do so, we have to calculate the forward caches as well as the computed gradients for each update step. Before we go into details of actual update methods, let us compute those manually.\n",
    "\n",
    "<div class=\"alert alert-warning\">\n",
    "    <h3>Optional: Compute Network Size</h3>\n",
    "    <p>Our network itself is quite small, as a quick check you can compute the size of the network defined above yourself by summing up all network weights. Compare them against the values computed below.</p>\n",
    "</div>\n",
    "\n",
    "A more challenging task is to calculate the memory required to compute one network forward pass. Lets just quickly do this for a small batch with our small model. In order to populate the forward caches, we have to make a forward pass using a batch."
   ]
  },
  {
   "cell_type": "code",
   "execution_count": null,
   "metadata": {},
   "outputs": [],
   "source": [
    "# Set up loss\n",
    "loss_func = CrossEntropyFromLogits()\n",
    "\n",
    "# Get a random batch of our dataloader with batch_size 8\n",
    "sample_batch = iter(dataloader).__next__()\n",
    "sample_images = sample_batch['image']\n",
    "sample_labels = sample_batch['label']\n",
    "\n",
    "# Compute model output\n",
    "model_output = model.forward(sample_images)"
   ]
  },
  {
   "cell_type": "markdown",
   "metadata": {},
   "source": [
    "Since we are always saving our inputs for each of our layers (in order to be able to backpropagate using them later) we amass quite a lot of values for our forward pass using 8 images. We've implemented a way to calculate those in bytes and you should check out this implementation as well as the network background.\n",
    "\n",
    "Using said function, we can calculate the network size as shown below:"
   ]
  },
  {
   "cell_type": "code",
   "execution_count": null,
   "metadata": {},
   "outputs": [],
   "source": [
    "num_bytes = compute_network_pass_size(model)\n",
    "\n",
    "print('\\nTotal number of bytes used by network for batch:', GetHumanReadable(num_bytes))"
   ]
  },
  {
   "cell_type": "markdown",
   "metadata": {},
   "source": [
    "OK, 3MB is not too shabby but also not a crazy high number. Your memory should easily handle it. However, we still have to add the memory required for the backward pass. In order to do so, we have to populate the gradients. Above you can see that those are only 24 bytes in size and that is because they are empty. Let's change that by doing one backward pass manually."
   ]
  },
  {
   "cell_type": "code",
   "execution_count": null,
   "metadata": {},
   "outputs": [],
   "source": [
    "# 1. Compute loss\n",
    "_ = loss_func.forward(model_output, sample_labels)\n",
    "# 2. Compute loss gradients\n",
    "dout = loss_func.backward(model_output, sample_labels)\n",
    "# 3. Backpropagate gradients through model\n",
    "_ = model.backward(dout)\n",
    "\n",
    "# Now calculate bytes again\n",
    "num_bytes = compute_network_pass_size(model)\n",
    "\n",
    "print('\\nTotal number of bytes used by network for batch:', GetHumanReadable(num_bytes))"
   ]
  },
  {
   "cell_type": "markdown",
   "metadata": {},
   "source": [
    "<div class=\"alert alert-warning\">\n",
    "    <h3>Optional: Check Code</h3>\n",
    "    <p>Check our implementation to compute the size of a network forward pass in bytes in <code>exercise_code/networks/compute_network_size.py</code>, which simply sums up the caches values as well as gradients. You should also think about how and why those caches/gradients are populated using the steps above.</p>\n",
    "</div>\n",
    "\n",
    "Nice! That is the amount of memory required to do a full training forward and backward pass using our small batch. \n",
    "\n",
    "However, if we wanted to compute the memory required to do a full gradient update for the CIFAR10 dataset using our small network, you'd need..."
   ]
  },
  {
   "cell_type": "code",
   "execution_count": null,
   "metadata": {},
   "outputs": [],
   "source": [
    "# A current batch consists of 8 images. The whole dataset would require 50000/8 times the amount of memory\n",
    "num_bytes = num_bytes * 50000 / 8\n",
    "\n",
    "print('Total number of bytes used by network for the whole dataset', GetHumanReadable(num_bytes))"
   ]
  },
  {
   "cell_type": "markdown",
   "metadata": {},
   "source": [
    "And that is the case why we usually have to use stochastic approaches to train neural networks :). For smaller tasks however, you can not only use regular gradient descent but also second order optimization approaches. For more info about those we refer to the lecture."
   ]
  },
  {
   "cell_type": "markdown",
   "metadata": {},
   "source": [
    "## 4.2 SGD\n",
    "\n",
    "We start off with plain Stochastic Gradient Descent (SGD) which we implemented for you.\n",
    "\n",
    "Now that we have an optimizer, we can execute the full pipeline using our pre-written solver which is similar to the one you wrote in the previous exercise.\n",
    "\n",
    "<div class=\"alert alert-warning\">\n",
    "    <h3>Note: Good Practice</h3>\n",
    "    <p>Always, always, always when starting a new project or defining a new network: <b>overfit on a small set first and then generalize</b>. The 500 images we are using here are already too many sample for most cases. Start with a single sample, then 10 and finally a few hundred. Don't cheap out on this step! More often, your network will fail to generalize properly and you have to first know if it has enough capacity to overfit and that the full training pipeline is working!</p>\n",
    "    <p>In order to run these experiments, you don't necessarily need a validation set. Just a few training samples are enough to make those checks!</p>\n",
    "</div>"
   ]
  },
  {
   "cell_type": "code",
   "execution_count": null,
   "metadata": {},
   "outputs": [],
   "source": [
    "# Redefine model and loss function\n",
    "model = ClassificationNet(input_size=input_size, \n",
    "                          hidden_size=128,\n",
    "                          activation=Relu(), \n",
    "                          num_layer=2, \n",
    "                          num_classes=10)\n",
    "\n",
    "loss_func = CrossEntropyFromLogits()"
   ]
  },
  {
   "cell_type": "code",
   "execution_count": null,
   "metadata": {},
   "outputs": [],
   "source": [
    "learning_rate = 1e-2\n",
    "\n",
    "# We use our training dataloader for validation as well as testing\n",
    "solver = Solver(model, dataloader, dataloader, \n",
    "                learning_rate=learning_rate, loss_func=loss_func, optimizer=SGD)\n",
    "\n",
    "# This might take a while depending on your hardware. When in doubt: use google colab\n",
    "solver.train(epochs=20)"
   ]
  },
  {
   "cell_type": "markdown",
   "metadata": {},
   "source": [
    "## 4.3 SGD + Momentum\n",
    "\n",
    "As you can see, the loss is going down smoothly which indicates that we are easily overfitting. Great. However, plain SGD is rarely used in practice (as it is usually too slow) which is why we will focus on implementing SGD+Momentum now, which is a straightforward extension to SGD.\n",
    "\n",
    "Recall that its update rule is defined by:\n",
    "\n",
    "$$ v^{k+1} = \\beta v^{k} - \\alpha \\nabla_{\\theta} L (\\theta^{k}),$$\n",
    "$$ \\theta^{k+1} = \\theta^{k} + v^{k+1}.$$\n",
    "\n",
    "<div class=\"alert alert-info\">\n",
    "    <h3>Task: Check Code and Implement </h3>\n",
    "    <p>Familiarize yourself with the SGD implementation in <code>exercise_code/networks/optimizer.py</code> as well as our general optimization class structure.</p>\n",
    "    <p> Then, implement the <code>SGDMomentum._update</code> function which is very similar to the update rule of SGD above.\n",
    "</div>"
   ]
  },
  {
   "cell_type": "code",
   "execution_count": 19,
   "metadata": {},
   "outputs": [
    {
     "name": "stdout",
     "output_type": "stream",
     "text": [
      "SGDM_Weight_Test passed.\n",
      "SGDM_Velocity_Test passed.\n",
      "Congratulations you have passed all the unit tests!!! Tests passed: 2/2\n",
      "Score: 100/100\n",
      "You secured a score of :100\n"
     ]
    }
   ],
   "source": [
    "#Test your SGD momentum implementations\n",
    "print(SGDMTestWrapper()())"
   ]
  },
  {
   "cell_type": "markdown",
   "metadata": {},
   "source": [
    "## 4.4 Adam\n",
    "\n",
    "There are a variety of updates that people have suggested for SGD. For a more detailed overview of optimizers and their development, we refer to [this educational blog post](https://ruder.io/optimizing-gradient-descent/).\n",
    "\n",
    "Besides SGD+Momentum (which is still used quite often and you should never discard it), the currently most used optimizer however is Adam. In comparison to SGD, it uses a first and second order momentum.\n",
    "\n",
    "<div class=\"alert alert-warning\">\n",
    "    <h3>Task: Check Code</h3>\n",
    "    <p>We have implemented Adam's update rule for you and you can check out the implementation in <code>exercise_code/networks/optimizer.py</code>.</p>\n",
    "</div>\n",
    "\n",
    "## 4.5 Optimizer Comparison\n",
    "\n",
    "Finally, let's compare our different optimization methods against each other on our small testing dataloader with shared parameters. That can take some time."
   ]
  },
  {
   "cell_type": "code",
   "execution_count": 20,
   "metadata": {},
   "outputs": [
    {
     "name": "stdout",
     "output_type": "stream",
     "text": [
      "Starting SGD\n"
     ]
    },
    {
     "ename": "NameError",
     "evalue": "name 'input_size' is not defined",
     "output_type": "error",
     "traceback": [
      "\u001b[0;31m---------------------------------------------------------------------------\u001b[0m",
      "\u001b[0;31mNameError\u001b[0m                                 Traceback (most recent call last)",
      "Input \u001b[0;32mIn [20]\u001b[0m, in \u001b[0;36m<cell line: 8>\u001b[0;34m()\u001b[0m\n\u001b[1;32m      9\u001b[0m \u001b[38;5;28mprint\u001b[39m(\u001b[38;5;124m'\u001b[39m\u001b[38;5;124mStarting \u001b[39m\u001b[38;5;132;01m{}\u001b[39;00m\u001b[38;5;124m'\u001b[39m\u001b[38;5;241m.\u001b[39mformat(name))\n\u001b[1;32m     10\u001b[0m \u001b[38;5;66;03m# Reset model\u001b[39;00m\n\u001b[0;32m---> 11\u001b[0m model \u001b[38;5;241m=\u001b[39m ClassificationNet(input_size\u001b[38;5;241m=\u001b[39m\u001b[43minput_size\u001b[49m, \n\u001b[1;32m     12\u001b[0m                           hidden_size\u001b[38;5;241m=\u001b[39m\u001b[38;5;241m128\u001b[39m,\n\u001b[1;32m     13\u001b[0m                           activation\u001b[38;5;241m=\u001b[39mRelu(), \n\u001b[1;32m     14\u001b[0m                           num_layer\u001b[38;5;241m=\u001b[39m\u001b[38;5;241m2\u001b[39m, \n\u001b[1;32m     15\u001b[0m                           num_classes\u001b[38;5;241m=\u001b[39m\u001b[38;5;241m10\u001b[39m)\n\u001b[1;32m     16\u001b[0m \u001b[38;5;66;03m# Set up solver\u001b[39;00m\n\u001b[1;32m     17\u001b[0m solver \u001b[38;5;241m=\u001b[39m Solver(model, dataloader, dataloader, \n\u001b[1;32m     18\u001b[0m                 learning_rate\u001b[38;5;241m=\u001b[39mlearning_rate, loss_func\u001b[38;5;241m=\u001b[39mloss_func,\n\u001b[1;32m     19\u001b[0m                 optimizer\u001b[38;5;241m=\u001b[39moptimizer)\n",
      "\u001b[0;31mNameError\u001b[0m: name 'input_size' is not defined"
     ]
    }
   ],
   "source": [
    "learning_rate = 1e-3\n",
    "num_epochs = 20\n",
    "loss_func = CrossEntropyFromLogits()\n",
    "\n",
    "# Compute loss histories for all optimizers\n",
    "loss_histories = {}\n",
    "\n",
    "for name, optimizer in zip(['SGD', 'SGD+Momentum', 'Adam'], [SGD, SGDMomentum, Adam]):\n",
    "    print('Starting {}'.format(name))\n",
    "    # Reset model\n",
    "    model = ClassificationNet(input_size=input_size, \n",
    "                              hidden_size=128,\n",
    "                              activation=Relu(), \n",
    "                              num_layer=2, \n",
    "                              num_classes=10)\n",
    "    # Set up solver\n",
    "    solver = Solver(model, dataloader, dataloader, \n",
    "                    learning_rate=learning_rate, loss_func=loss_func,\n",
    "                    optimizer=optimizer)\n",
    "    solver.train(epochs=num_epochs)\n",
    "    # Save train history to plot later\n",
    "    loss_histories[name] = solver.train_loss_history\n",
    "    print()\n",
    "\n",
    "# Plot them in a shared plot\n",
    "for name in loss_histories:\n",
    "    plt.plot(loss_histories[name], '-', label=name)\n",
    "plt.legend(loc='lower right')\n",
    "plt.xlabel('Epochs')\n",
    "plt.ylabel('Loss')\n",
    "plt.show()"
   ]
  },
  {
   "cell_type": "markdown",
   "metadata": {},
   "source": [
    "Phew... that was a lot of work, but with this plot exercise 5 is done :).\n",
    "\n",
    "# 6. Outlook\n",
    "\n",
    "Should you always use Adam, as this single experiment using a fixed set of parameters suggests? How would you perform on unseen data using this network? Which network is the best?\n",
    "\n",
    "All of these questions have a shared condition: **hyperparameters**! Basically everything we touched in this notebook is a hyperparameter for a deep learning task:\n",
    "- the network architecture,\n",
    "- data transformations,\n",
    "- optimizer,\n",
    "- and much more.\n",
    "\n",
    "But how do you choose good hyperparameters? They will not magically appear and since we are computer scientists we are allergic to excessive manual testing. Therefore, we will show ways to come up with them in an automated manner in our next exercise, so stay tuned :).\n",
    "\n",
    "# 7. Submission Instructions\n",
    "Hooooooray, you trained your model! The model will be saved as a pickle file to `models/NN.p`.\n"
   ]
  },
  {
   "cell_type": "code",
   "execution_count": 21,
   "metadata": {},
   "outputs": [],
   "source": [
    "from exercise_code.tests import save_pickle\n",
    "from exercise_code.networks.layer import *\n",
    "from exercise_code.networks.optimizer import SGDMomentum\n",
    "\n",
    "save_pickle(\n",
    "    data_dict={\n",
    "        \"SGD_Momentum_update\": SGDMomentum._update,\n",
    "        \"AffineForward\": affine_forward,\n",
    "        \"AffineBackward\": affine_backward,\n",
    "        \"Sigmoid\": Sigmoid,\n",
    "        \"Relu\": Relu,\n",
    "    },\n",
    "    file_name=\"NN.p\"\n",
    ")"
   ]
  },
  {
   "cell_type": "markdown",
   "metadata": {},
   "source": [
    "Now, that you have completed the necessary parts in the notebook, you can go on and submit your files.\n",
    "\n",
    "1. Go on [our submission page](https://i2dl.dvl.in.tum.de/), register for an account and login. We use your matriculation number and send an email with the login details to the mail account associated. When in doubt, login into tum-online and check your mails there. You will get an id which we need in the next step.\n",
    "2. Log into [our submission page](https://i2dl.dvl.in.tum.de/) with your account details and upload the zip file.\n",
    "3. Your submission will be evaluated by our system and you will get feedback about the performance of it. You will get an email with your score as well as a message if you have surpassed the threshold.\n",
    "4. Within the working period, you can submit as many solutions as you want to get the best possible score.\n",
    "\n",
    "Simply run the following cell to create a zipped file for your implementations."
   ]
  },
  {
   "cell_type": "code",
   "execution_count": 22,
   "metadata": {},
   "outputs": [
    {
     "name": "stdout",
     "output_type": "stream",
     "text": [
      "relevant folders: ['exercise_code', 'models']\n",
      "notebooks files: ['1_NeuralNetworks.ipynb']\n",
      "Adding folder exercise_code\n",
      "Adding folder models\n",
      "Adding notebook 1_NeuralNetworks.ipynb\n",
      "Zipping successful! Zip is stored under: /Users/liaoxinwen/aima-python/i2dl/output/exercise05.zip\n"
     ]
    }
   ],
   "source": [
    "from exercise_code.submit import submit_exercise\n",
    "\n",
    "\n",
    "submit_exercise('../output/exercise05')"
   ]
  },
  {
   "cell_type": "markdown",
   "metadata": {},
   "source": [
    "# Submission Goals\n",
    "\n",
    "- Goals: Implement all implementation tasks.\n",
    "- Test cases: \n",
    "    1. Does `forward()` of `Sigmoid` layer return the correct value during forward pass?\n",
    "    2. Does `backward()` of `Sigmoid` layer return the correct value during backward pass?\n",
    "    3. Does `forward()` of `Relu` layer return the correct value during forward pass?\n",
    "    4. Does `backward()` of `Relu` layer return the correct value during backward pass?\n",
    "    5. Does `affine_forward()` return the correct value of `out`?\n",
    "    6. Does `affine_backward()` return the correct value of `dx`?\n",
    "    7. Does `affine_backward()` return the correct value of `dw`?\n",
    "    8. Does `affine_backward()` return the correct value of `db`?\n",
    "    9. Does `update()` of SGDMomentum return the correct weight values after update?\n",
    "    10. Does `update()` of SGDMomentum return the correct velocity values after update?\n",
    "\n",
    "- Reachable points [0, 100]: 0 if not implemented, 100 if all tests passed, 10 per passed test\n",
    "- Threshold to clear exercise: 100\n",
    "- Submission start: __May 31, 2022, 13.00__\n",
    "- Submission deadline : __June 13, 2022, 23.59__ \n",
    "- You can make multiple submission until the deadline. Your __best submission__ will be considered for bonus"
   ]
  },
  {
   "cell_type": "markdown",
   "metadata": {},
   "source": [
    "# [Exercise Review](https://docs.google.com/forms/d/e/1FAIpQLScwZArz6ogLqBEj--ItB6unKcv0u9gWLj8bspeiATrDnFH9hA/viewform)\n",
    "We are always interested in your opinion. Now that you have finished this exercise, we would like you to give us some feedback about the time required to finish the submission and/or work through the notebooks. Please take the short time to fill out our [review form](https://docs.google.com/forms/d/e/1FAIpQLScwZArz6ogLqBEj--ItB6unKcv0u9gWLj8bspeiATrDnFH9hA/viewform) for this exercise so that we can do better next time! :)"
   ]
  }
 ],
 "metadata": {
  "interpreter": {
   "hash": "f9fd0696167aaed30d55c31fd713b4c23f5cf987c5457682b34d44d5309ecf99"
  },
  "kernelspec": {
   "display_name": "Python 3 (ipykernel)",
   "language": "python",
   "name": "python3"
  },
  "language_info": {
   "codemirror_mode": {
    "name": "ipython",
    "version": 3
   },
   "file_extension": ".py",
   "mimetype": "text/x-python",
   "name": "python",
   "nbconvert_exporter": "python",
   "pygments_lexer": "ipython3",
   "version": "3.9.7"
  }
 },
 "nbformat": 4,
 "nbformat_minor": 2
}
